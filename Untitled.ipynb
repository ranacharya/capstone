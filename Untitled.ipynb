{
 "cells": [
  {
   "cell_type": "code",
   "execution_count": 1,
   "id": "c6cdadbe",
   "metadata": {},
   "outputs": [
    {
     "name": "stderr",
     "output_type": "stream",
     "text": [
      "C:\\Users\\ranad\\anaconda3\\lib\\site-packages\\scipy\\__init__.py:146: UserWarning: A NumPy version >=1.16.5 and <1.23.0 is required for this version of SciPy (detected version 1.26.0\n",
      "  warnings.warn(f\"A NumPy version >={np_minversion} and <{np_maxversion}\"\n",
      "C:\\Users\\ranad\\anaconda3\\lib\\site-packages\\tensorflow_addons\\utils\\tfa_eol_msg.py:23: UserWarning: \n",
      "\n",
      "TensorFlow Addons (TFA) has ended development and introduction of new features.\n",
      "TFA has entered a minimal maintenance and release mode until a planned end of life in May 2024.\n",
      "Please modify downstream libraries to take dependencies from other repositories in our TensorFlow community (e.g. Keras, Keras-CV, and Keras-NLP). \n",
      "\n",
      "For more information see: https://github.com/tensorflow/addons/issues/2807 \n",
      "\n",
      "  warnings.warn(\n",
      "C:\\Users\\ranad\\anaconda3\\lib\\site-packages\\tensorflow_addons\\utils\\ensure_tf_install.py:53: UserWarning: Tensorflow Addons supports using Python ops for all Tensorflow versions above or equal to 2.12.0 and strictly below 2.15.0 (nightly versions are not supported). \n",
      " The versions of TensorFlow you are currently using is 2.9.1 and is not supported. \n",
      "Some things might work, some things might not.\n",
      "If you were to encounter a bug, do not file an issue.\n",
      "If you want to make sure you're using a tested and supported configuration, either change the TensorFlow version or the TensorFlow Addons's version. \n",
      "You can find the compatibility matrix in TensorFlow Addon's readme:\n",
      "https://github.com/tensorflow/addons\n",
      "  warnings.warn(\n"
     ]
    },
    {
     "name": "stdout",
     "output_type": "stream",
     "text": [
      "[]\n"
     ]
    }
   ],
   "source": [
    "import predict"
   ]
  },
  {
   "cell_type": "code",
   "execution_count": 2,
   "id": "69045cfa",
   "metadata": {},
   "outputs": [
    {
     "name": "stdout",
     "output_type": "stream",
     "text": [
      "Requirement already satisfied: transunet in c:\\users\\ranad\\anaconda3\\lib\\site-packages (1.0.3)\n",
      "Requirement already satisfied: validators in c:\\users\\ranad\\anaconda3\\lib\\site-packages (from transunet) (0.22.0)\n",
      "Requirement already satisfied: tensorflow in c:\\users\\ranad\\anaconda3\\lib\\site-packages (from transunet) (2.9.1)\n",
      "Requirement already satisfied: tensorflow-addons in c:\\users\\ranad\\anaconda3\\lib\\site-packages (from transunet) (0.22.0)\n",
      "Requirement already satisfied: tensorboard<2.10,>=2.9 in c:\\users\\ranad\\anaconda3\\lib\\site-packages (from tensorflow->transunet) (2.9.1)\n",
      "Requirement already satisfied: flatbuffers<2,>=1.12 in c:\\users\\ranad\\anaconda3\\lib\\site-packages (from tensorflow->transunet) (1.12)\n",
      "Requirement already satisfied: keras<2.10.0,>=2.9.0rc0 in c:\\users\\ranad\\anaconda3\\lib\\site-packages (from tensorflow->transunet) (2.9.0)\n",
      "Requirement already satisfied: gast<=0.4.0,>=0.2.1 in c:\\users\\ranad\\anaconda3\\lib\\site-packages (from tensorflow->transunet) (0.4.0)\n",
      "Requirement already satisfied: opt-einsum>=2.3.2 in c:\\users\\ranad\\anaconda3\\lib\\site-packages (from tensorflow->transunet) (3.3.0)\n",
      "Requirement already satisfied: libclang>=13.0.0 in c:\\users\\ranad\\anaconda3\\lib\\site-packages (from tensorflow->transunet) (14.0.1)\n",
      "Requirement already satisfied: termcolor>=1.1.0 in c:\\users\\ranad\\anaconda3\\lib\\site-packages (from tensorflow->transunet) (1.1.0)\n",
      "Requirement already satisfied: tensorflow-io-gcs-filesystem>=0.23.1 in c:\\users\\ranad\\anaconda3\\lib\\site-packages (from tensorflow->transunet) (0.26.0)\n",
      "Requirement already satisfied: tensorflow-estimator<2.10.0,>=2.9.0rc0 in c:\\users\\ranad\\anaconda3\\lib\\site-packages (from tensorflow->transunet) (2.9.0)\n",
      "Requirement already satisfied: numpy>=1.20 in c:\\users\\ranad\\anaconda3\\lib\\site-packages (from tensorflow->transunet) (1.26.0)\n",
      "Requirement already satisfied: h5py>=2.9.0 in c:\\users\\ranad\\anaconda3\\lib\\site-packages (from tensorflow->transunet) (3.6.0)\n",
      "Requirement already satisfied: wrapt>=1.11.0 in c:\\users\\ranad\\anaconda3\\lib\\site-packages (from tensorflow->transunet) (1.12.1)\n",
      "Requirement already satisfied: protobuf<3.20,>=3.9.2 in c:\\users\\ranad\\anaconda3\\lib\\site-packages (from tensorflow->transunet) (3.19.1)\n",
      "Requirement already satisfied: typing-extensions>=3.6.6 in c:\\users\\ranad\\anaconda3\\lib\\site-packages (from tensorflow->transunet) (4.1.1)\n",
      "Requirement already satisfied: packaging in c:\\users\\ranad\\anaconda3\\lib\\site-packages (from tensorflow->transunet) (21.3)\n",
      "Requirement already satisfied: grpcio<2.0,>=1.24.3 in c:\\users\\ranad\\anaconda3\\lib\\site-packages (from tensorflow->transunet) (1.42.0)\n",
      "Requirement already satisfied: google-pasta>=0.1.1 in c:\\users\\ranad\\anaconda3\\lib\\site-packages (from tensorflow->transunet) (0.2.0)\n",
      "Requirement already satisfied: keras-preprocessing>=1.1.1 in c:\\users\\ranad\\anaconda3\\lib\\site-packages (from tensorflow->transunet) (1.1.2)\n",
      "Requirement already satisfied: setuptools in c:\\users\\ranad\\anaconda3\\lib\\site-packages (from tensorflow->transunet) (61.2.0)\n",
      "Requirement already satisfied: six>=1.12.0 in c:\\users\\ranad\\anaconda3\\lib\\site-packages (from tensorflow->transunet) (1.16.0)\n",
      "Requirement already satisfied: absl-py>=1.0.0 in c:\\users\\ranad\\anaconda3\\lib\\site-packages (from tensorflow->transunet) (1.1.0)\n",
      "Requirement already satisfied: astunparse>=1.6.0 in c:\\users\\ranad\\anaconda3\\lib\\site-packages (from tensorflow->transunet) (1.6.3)\n",
      "Requirement already satisfied: wheel<1.0,>=0.23.0 in c:\\users\\ranad\\anaconda3\\lib\\site-packages (from astunparse>=1.6.0->tensorflow->transunet) (0.37.1)\n",
      "Requirement already satisfied: tensorboard-plugin-wit>=1.6.0 in c:\\users\\ranad\\anaconda3\\lib\\site-packages (from tensorboard<2.10,>=2.9->tensorflow->transunet) (1.8.1)\n",
      "Requirement already satisfied: google-auth<3,>=1.6.3 in c:\\users\\ranad\\anaconda3\\lib\\site-packages (from tensorboard<2.10,>=2.9->tensorflow->transunet) (1.33.0)\n",
      "Requirement already satisfied: markdown>=2.6.8 in c:\\users\\ranad\\anaconda3\\lib\\site-packages (from tensorboard<2.10,>=2.9->tensorflow->transunet) (3.3.4)\n",
      "Requirement already satisfied: werkzeug>=1.0.1 in c:\\users\\ranad\\anaconda3\\lib\\site-packages (from tensorboard<2.10,>=2.9->tensorflow->transunet) (2.0.3)\n",
      "Requirement already satisfied: requests<3,>=2.21.0 in c:\\users\\ranad\\anaconda3\\lib\\site-packages (from tensorboard<2.10,>=2.9->tensorflow->transunet) (2.27.1)\n",
      "Requirement already satisfied: tensorboard-data-server<0.7.0,>=0.6.0 in c:\\users\\ranad\\anaconda3\\lib\\site-packages (from tensorboard<2.10,>=2.9->tensorflow->transunet) (0.6.1)\n",
      "Requirement already satisfied: google-auth-oauthlib<0.5,>=0.4.1 in c:\\users\\ranad\\anaconda3\\lib\\site-packages (from tensorboard<2.10,>=2.9->tensorflow->transunet) (0.4.6)\n",
      "Requirement already satisfied: rsa<5,>=3.1.4 in c:\\users\\ranad\\anaconda3\\lib\\site-packages (from google-auth<3,>=1.6.3->tensorboard<2.10,>=2.9->tensorflow->transunet) (4.7.2)\n",
      "Requirement already satisfied: cachetools<5.0,>=2.0.0 in c:\\users\\ranad\\anaconda3\\lib\\site-packages (from google-auth<3,>=1.6.3->tensorboard<2.10,>=2.9->tensorflow->transunet) (4.2.2)\n",
      "Requirement already satisfied: pyasn1-modules>=0.2.1 in c:\\users\\ranad\\anaconda3\\lib\\site-packages (from google-auth<3,>=1.6.3->tensorboard<2.10,>=2.9->tensorflow->transunet) (0.2.8)\n",
      "Requirement already satisfied: requests-oauthlib>=0.7.0 in c:\\users\\ranad\\anaconda3\\lib\\site-packages (from google-auth-oauthlib<0.5,>=0.4.1->tensorboard<2.10,>=2.9->tensorflow->transunet) (1.3.1)\n",
      "Requirement already satisfied: pyasn1<0.5.0,>=0.4.6 in c:\\users\\ranad\\anaconda3\\lib\\site-packages (from pyasn1-modules>=0.2.1->google-auth<3,>=1.6.3->tensorboard<2.10,>=2.9->tensorflow->transunet) (0.4.8)\n",
      "Requirement already satisfied: certifi>=2017.4.17 in c:\\users\\ranad\\anaconda3\\lib\\site-packages (from requests<3,>=2.21.0->tensorboard<2.10,>=2.9->tensorflow->transunet) (2021.10.8)\n",
      "Requirement already satisfied: urllib3<1.27,>=1.21.1 in c:\\users\\ranad\\anaconda3\\lib\\site-packages (from requests<3,>=2.21.0->tensorboard<2.10,>=2.9->tensorflow->transunet) (1.26.9)\n",
      "Requirement already satisfied: idna<4,>=2.5 in c:\\users\\ranad\\anaconda3\\lib\\site-packages (from requests<3,>=2.21.0->tensorboard<2.10,>=2.9->tensorflow->transunet) (3.3)\n",
      "Requirement already satisfied: charset-normalizer~=2.0.0 in c:\\users\\ranad\\anaconda3\\lib\\site-packages (from requests<3,>=2.21.0->tensorboard<2.10,>=2.9->tensorflow->transunet) (2.0.4)\n",
      "Requirement already satisfied: oauthlib>=3.0.0 in c:\\users\\ranad\\anaconda3\\lib\\site-packages (from requests-oauthlib>=0.7.0->google-auth-oauthlib<0.5,>=0.4.1->tensorboard<2.10,>=2.9->tensorflow->transunet) (3.2.0)\n",
      "Requirement already satisfied: pyparsing!=3.0.5,>=2.0.2 in c:\\users\\ranad\\anaconda3\\lib\\site-packages (from packaging->tensorflow->transunet) (3.0.4)\n",
      "Requirement already satisfied: typeguard<3.0.0,>=2.7 in c:\\users\\ranad\\anaconda3\\lib\\site-packages (from tensorflow-addons->transunet) (2.13.3)\n",
      "Note: you may need to restart the kernel to use updated packages.\n"
     ]
    }
   ],
   "source": [
    "pip install transunet"
   ]
  },
  {
   "cell_type": "code",
   "execution_count": 3,
   "id": "807390d9",
   "metadata": {},
   "outputs": [
    {
     "name": "stdout",
     "output_type": "stream",
     "text": [
      "[]\n"
     ]
    }
   ],
   "source": [
    "%run predict.py"
   ]
  },
  {
   "cell_type": "code",
   "execution_count": 4,
   "id": "774bbcb8",
   "metadata": {},
   "outputs": [],
   "source": [
    "import glob\n",
    "import cv2\n",
    "import numpy as np\n",
    "import random\n",
    "import tensorflow as tf\n",
    "from sklearn.metrics import confusion_matrix, accuracy_score, precision_score, recall_score, f1_score\n",
    "from transunet import TransUNet\n",
    "import os\n",
    "from sklearn.cluster import KMeans\n",
    "import joblib\n",
    "from Models import UNet,DeeplabV3Plus"
   ]
  },
  {
   "cell_type": "code",
   "execution_count": 5,
   "id": "aa29c1d3",
   "metadata": {},
   "outputs": [],
   "source": [
    "images_path = \"dataset/test/palsar/sat/\"\n",
    "segs_path = \"dataset/test/palsar/gt/\"\n",
    "result_path='dataset/test/palsar/predict/'\n",
    "output_name=\"unet\"\n",
    "\n",
    "input_height = 256\n",
    "input_width = 256\n",
    "\n",
    "colors = [\n",
    "    (random.randint(\n",
    "        0, 255), random.randint(\n",
    "            0, 255), random.randint(\n",
    "                0, 255)) for _ in range(n_classes)]"
   ]
  },
  {
   "cell_type": "code",
   "execution_count": 6,
   "id": "2c8b43d6",
   "metadata": {},
   "outputs": [
    {
     "data": {
      "text/plain": [
       "[(184, 156, 137), (208, 221, 0)]"
      ]
     },
     "execution_count": 6,
     "metadata": {},
     "output_type": "execute_result"
    }
   ],
   "source": [
    "colors"
   ]
  },
  {
   "cell_type": "code",
   "execution_count": 7,
   "id": "9117456e",
   "metadata": {},
   "outputs": [],
   "source": [
    "def compute_iou(y_true, y_pred):\n",
    "     # ytrue, ypred is a flatten vector\n",
    "     current = confusion_matrix(y_true, y_pred, labels=[0, 1])\n",
    "     print(current)\n",
    "     # compute mean iou\n",
    "     intersection = np.diag(current)\n",
    "     ground_truth_set = current.sum(axis=1)\n",
    "     predicted_set = current.sum(axis=0)\n",
    "     union = ground_truth_set + predicted_set - intersection\n",
    "     IoU = intersection / union.astype(np.float32)\n",
    "     tmp=np.mean(IoU)\n",
    "     print(tmp)\n",
    "     return tmp"
   ]
  },
  {
   "cell_type": "code",
   "execution_count": 8,
   "id": "2e5995d2",
   "metadata": {},
   "outputs": [],
   "source": [
    "def label2color(colors, n_classes, seg):\n",
    "    seg_color = np.zeros((seg.shape[0], seg.shape[1], 3))\n",
    "    for c in range(n_classes):\n",
    "        seg_color[:, :, 0] += ((seg == c) *\n",
    "                               (colors[c][0])).astype('uint8')\n",
    "        seg_color[:, :, 1] += ((seg == c) *\n",
    "                               (colors[c][1])).astype('uint8')\n",
    "        seg_color[:, :, 2] += ((seg == c) *\n",
    "                               (colors[c][2])).astype('uint8')\n",
    "    seg_color = seg_color.astype(np.uint8)\n",
    "    return seg_color"
   ]
  },
  {
   "cell_type": "code",
   "execution_count": 9,
   "id": "35f88015",
   "metadata": {},
   "outputs": [],
   "source": [
    "def getcenteroffset(shape, input_height, input_width):\n",
    "    short_edge = min(shape[:2])\n",
    "    xx = int((shape[0] - short_edge) / 2)\n",
    "    yy = int((shape[1] - short_edge) / 2)\n",
    "    return xx, yy"
   ]
  },
  {
   "cell_type": "code",
   "execution_count": 10,
   "id": "7670d230",
   "metadata": {},
   "outputs": [],
   "source": [
    "images = sorted(glob.glob(images_path + \"*.jpg\") +\n",
    "                glob.glob(images_path + \"*.png\") +\n",
    "                glob.glob(images_path + \"*.jpeg\") +\n",
    "                glob.glob(images_path + \"*.tif\"))"
   ]
  },
  {
   "cell_type": "code",
   "execution_count": 11,
   "id": "c88393a1",
   "metadata": {},
   "outputs": [
    {
     "name": "stdout",
     "output_type": "stream",
     "text": [
      "[]\n"
     ]
    }
   ],
   "source": [
    "segmentations = sorted(glob.glob(segs_path + \"*.jpg\") +\n",
    "                       glob.glob(segs_path + \"*.png\") + glob.glob(segs_path + \"*.jpeg\") +\n",
    "                       glob.glob(segs_path + \"*.tif\")\n",
    "                       )\n",
    "\n",
    "output_path=\"./output/\"\n",
    "\n",
    "output_models= sorted(glob.glob(output_path + output_name+\".hdf5\"))\n",
    "print(output_models)"
   ]
  },
  {
   "cell_type": "code",
   "execution_count": 12,
   "id": "8fc55f9e",
   "metadata": {},
   "outputs": [
    {
     "data": {
      "text/plain": [
       "<function __main__.compute_iou(y_true, y_pred)>"
      ]
     },
     "execution_count": 12,
     "metadata": {},
     "output_type": "execute_result"
    }
   ],
   "source": [
    "compute_iou\n"
   ]
  },
  {
   "cell_type": "code",
   "execution_count": 13,
   "id": "cacf619f",
   "metadata": {},
   "outputs": [],
   "source": [
    "for mi in output_models:\n",
    "    try:\n",
    "        m = DeeplabV3Plus.DeeplabV3Plus(n_classes, input_height=input_height, input_width=input_width)\n",
    "        #m = UNet.unet_fengfan(n_classes, input_height=input_height, input_width=input_width)\n",
    "        #m = TransUNet(image_size=256, grid=(16,16), num_classes=2, pretrain=True)\n",
    "        m.load_weights(mi)\n",
    "        seg_list,pr_list=np.array([]).astype('uint8'),np.array([]).astype('uint8')\n",
    "        for i, (imgName, segName) in enumerate(zip(images, segmentations)):\n",
    "            im = cv2.imread(imgName, cv2.IMREAD_UNCHANGED)\n",
    "            \n",
    "            seg = cv2.imread(segName, 0)\n",
    "            \n",
    "            pr = m.predict(np.expand_dims(im, 0))[0]\n",
    "            pr = pr.reshape((input_height, input_width, n_classes)).argmax(axis=2)\n",
    "            \n",
    "            seg_list=np.hstack((seg_list,(seg.flatten()/255).astype('uint8')))\n",
    "            pr_list=np.hstack((pr_list,pr.flatten().astype('uint8')))\n",
    "\n",
    "        f = open (\"result_\"+output_name+\".txt\", \"a\")\n",
    "        print(mi+\"\\t\"+str(accuracy_score(seg_list,pr_list))+\"\\t\"+\n",
    "              str(precision_score(seg_list,pr_list))+\"\\t\"+\n",
    "              str(recall_score(seg_list,pr_list))+\"\\t\"+\n",
    "              str(f1_score(seg_list,pr_list))+\"\\t\"+\n",
    "              str(compute_iou(seg_list,pr_list)),file=f\n",
    "              )    \n",
    "        print(mi+\"\\t\"+str(accuracy_score(seg_list,pr_list))+\"\\t\"+\n",
    "              str(precision_score(seg_list,pr_list,labels =[0,1],pos_label=1))+\"\\t\"+\n",
    "              str(recall_score(seg_list,pr_list,labels =[0,1],pos_label=1))+\"\\t\"+\n",
    "              str(f1_score(seg_list,pr_list,labels =[0,1],pos_label=1))+\"\\t\"+\n",
    "              str(compute_iou(seg_list,pr_list))\n",
    "              ) \n",
    "        print(mi+\"\\t\"+str(accuracy_score(seg_list,pr_list))+\"\\t\"+\n",
    "              str(precision_score(seg_list,pr_list,labels =[0,1],pos_label=0))+\"\\t\"+\n",
    "              str(recall_score(seg_list,pr_list,labels =[0,1],pos_label=0))+\"\\t\"+\n",
    "              str(f1_score(seg_list,pr_list,labels =[0,1],pos_label=0))+\"\\t\"+\n",
    "              str(compute_iou(seg_list,pr_list))\n",
    "              )  \n",
    "        f.close()\n",
    "    except Exception as r:\n",
    "        f = open (\"result_\"+output_name+\".txt\", \"a\")\n",
    "        print(mi,r,file=f)\n",
    "        f.close()\n"
   ]
  },
  {
   "cell_type": "code",
   "execution_count": null,
   "id": "ca2a92f6",
   "metadata": {},
   "outputs": [],
   "source": []
  }
 ],
 "metadata": {
  "kernelspec": {
   "display_name": "Python 3 (ipykernel)",
   "language": "python",
   "name": "python3"
  },
  "language_info": {
   "codemirror_mode": {
    "name": "ipython",
    "version": 3
   },
   "file_extension": ".py",
   "mimetype": "text/x-python",
   "name": "python",
   "nbconvert_exporter": "python",
   "pygments_lexer": "ipython3",
   "version": "3.9.12"
  }
 },
 "nbformat": 4,
 "nbformat_minor": 5
}
